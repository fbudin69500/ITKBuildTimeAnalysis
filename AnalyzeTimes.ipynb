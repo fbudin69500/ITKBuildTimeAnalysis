{
 "cells": [
  {
   "cell_type": "markdown",
   "metadata": {},
   "source": [
    "## Read File containing times"
   ]
  },
  {
   "cell_type": "code",
   "execution_count": 4,
   "metadata": {},
   "outputs": [],
   "source": [
    "import re"
   ]
  },
  {
   "cell_type": "code",
   "execution_count": 5,
   "metadata": {},
   "outputs": [],
   "source": [
    "log_file=\"log_time_verbose_2digits\""
   ]
  },
  {
   "cell_type": "code",
   "execution_count": 48,
   "metadata": {},
   "outputs": [],
   "source": [
    "def convert_time(str_time):\n",
    "    # Expect time with format 'Minutes:seconds'\n",
    "    m, s = str_time.split(':')\n",
    "    return float(m)*60+float(s)"
   ]
  },
  {
   "cell_type": "code",
   "execution_count": 67,
   "metadata": {},
   "outputs": [
    {
     "name": "stdout",
     "output_type": "stream",
     "text": [
      "Skipping a line that has multiple ':' character\n",
      "Skipping a line that has multiple ':' character\n",
      "Number of lines: 190440\n",
      "Number of skipped lines: 2\n",
      "Number of targets: 8276\n"
     ]
    }
   ],
   "source": [
    "with open(log_file) as time_file:\n",
    "    line = time_file.readline()\n",
    "    \n",
    "    list_logged_info = [\"Command being timed\", \"User time (seconds)\", \"System time (seconds)\", \"Percent of CPU this job got\", \"Elapsed (wall clock) time (h:mm:ss or m:ss)\", \"Average shared text size (kbytes)\", \"Average unshared data size (kbytes)\", \"Average stack size (kbytes)\", \"Average total size (kbytes)\", \"Maximum resident set size (kbytes)\", \"Average resident set size (kbytes)\", \"Major (requiring I/O) page faults\", \"Minor (reclaiming a frame) page faults\", \"Voluntary context switches\", \"Involuntary context switches\", \"Swaps\", \"File system inputs\", \"File system outputs\", \"Socket messages sent\", \"Socket messages received\", \"Signals delivered\", \"Page size (bytes)\", \"Exit status\"]\n",
    "    \n",
    "    all_targets = []\n",
    "    number_of_lines = 0\n",
    "    nb_info = len(list_logged_info)\n",
    "    previous_info = nb_info - 1 # Initialize with previous info being the last element of list_logged_info\n",
    "    skipped_lines = []\n",
    "    \n",
    "    \n",
    "    while line:\n",
    "        line = line.strip()\n",
    "        #print line\n",
    "        try:\n",
    "            key, info = line.split(\": \")\n",
    "            # Did we find the expected info line (i.e. are we on the next list_logged_info line)\n",
    "            expected_key = list_logged_info[(previous_info+1)%nb_info]\n",
    "            if key != expected_key:\n",
    "                raise Exception('Found key: \"%s\". Expecting: \"%s\". Previous key: \"%s\\nCommand line: %s\\nline #: %d\"'\n",
    "                                %(key, expected_key, list_logged_info[previous_info], line, number_of_lines))\n",
    "            previous_info = (previous_info + 1)%nb_info\n",
    "            # Save info\n",
    "            if key == 'Command being timed':\n",
    "                cmd = info\n",
    "            elif key == 'Percent of CPU this job got':\n",
    "                percent_cpu = float(info.split('%')[0])\n",
    "            elif key == 'Elapsed (wall clock) time (h:mm:ss or m:ss)':\n",
    "                # Safe check\n",
    "                if cmd is None:\n",
    "                    raise Exception('cmd is None. Line: %s' %line)\n",
    "                if percent_cpu is None:\n",
    "                    raise Exception('percent_cpu is None. Line: %s' %line)\n",
    "                all_targets.append((cmd, convert_time(info)*percent_cpu/100.0))\n",
    "                # Reset `cmd` and `percent_cpu` just in case\n",
    "                cmd = None\n",
    "                percent_cpu = None\n",
    "            # Move to next line\n",
    "            line = time_file.readline()\n",
    "            number_of_lines += 1\n",
    "        except ValueError as e:\n",
    "            print \"Skipping a line that has multiple ':' character\"\n",
    "            skipped_lines.append(line)\n",
    "            # Find next command that corresponds to first key\n",
    "            found_first_key = False\n",
    "            while not found_first_key:\n",
    "                line = time_file.readline()\n",
    "                number_of_lines += 1\n",
    "                line = line.strip()\n",
    "                split_line = line.split(\": \")\n",
    "                if split_line[0] == list_logged_info[0]:\n",
    "                    found_first_key = True\n",
    "    print(\"Number of lines: %d\" % number_of_lines)\n",
    "    print(\"Number of skipped lines: %s\" % len(skipped_lines))\n",
    "    print(\"Number of targets: %s\" % len(all_targets))"
   ]
  },
  {
   "cell_type": "code",
   "execution_count": 82,
   "metadata": {},
   "outputs": [
    {
     "name": "stdout",
     "output_type": "stream",
     "text": [
      "Total time (\"make -j24\"): 42432.598400\n"
     ]
    }
   ],
   "source": [
    "total_make_time = all_targets[-1][1]\n",
    "print(\"Total time (%s): %f\" % (all_targets[-1][0], total_make_time))"
   ]
  },
  {
   "cell_type": "code",
   "execution_count": 83,
   "metadata": {},
   "outputs": [
    {
     "name": "stdout",
     "output_type": "stream",
     "text": [
      "Sum time all targets: 41875.057500\n"
     ]
    }
   ],
   "source": [
    "sum_time = 0.0\n",
    "for cmd, time in all_targets[:-2]: # Skip last target that is total time\n",
    "    sum_time += time\n",
    "print(\"Sum time all targets: %f\" % sum_time)"
   ]
  },
  {
   "cell_type": "code",
   "execution_count": 109,
   "metadata": {},
   "outputs": [],
   "source": [
    "def TargetTime(name, pattern, debug=False):\n",
    "    sum_time = 0.0\n",
    "    nb_targets = 0\n",
    "    for cmd, time in all_targets[:-2]: # Skip last target that is total time\n",
    "        if pattern.match(cmd):\n",
    "            sum_time += time\n",
    "            nb_targets +=1\n",
    "        elif debug:\n",
    "            print cmd\n",
    "    print(\"Sum time %s targets (%d): %f (%f%%)\" % (name, nb_targets, sum_time, sum_time/total_make_time*100.0))"
   ]
  },
  {
   "cell_type": "code",
   "execution_count": 110,
   "metadata": {},
   "outputs": [
    {
     "name": "stdout",
     "output_type": "stream",
     "text": [
      "Sum time swig targets (820): 12877.647300 (30.348477%)\n"
     ]
    }
   ],
   "source": [
    "TargetTime('swig', re.compile('.*swig.*bin.*swig.*python.*'))"
   ]
  },
  {
   "cell_type": "code",
   "execution_count": 111,
   "metadata": {},
   "outputs": [
    {
     "name": "stdout",
     "output_type": "stream",
     "text": [
      "Sum time igenerator targets (92): 760.875700 (1.793140%)\n"
     ]
    }
   ],
   "source": [
    "TargetTime('igenerator', re.compile('.*igenerator.py.*'))"
   ]
  },
  {
   "cell_type": "code",
   "execution_count": 112,
   "metadata": {},
   "outputs": [
    {
     "name": "stdout",
     "output_type": "stream",
     "text": [
      "Sum time C++ Tests targets (1174): 9557.376700 (22.523666%)\n"
     ]
    }
   ],
   "source": [
    "TargetTime('C++ Tests', re.compile('.*test.*Test\\.cxx.*'))"
   ]
  },
  {
   "cell_type": "code",
   "execution_count": 115,
   "metadata": {},
   "outputs": [
    {
     "name": "stdout",
     "output_type": "stream",
     "text": [
      "Sum time Link static libs targets (98): 5.907200 (0.013921%)\n"
     ]
    }
   ],
   "source": [
    "TargetTime('Link static libs', re.compile('.*/usr/bin/ar.*'))"
   ]
  },
  {
   "cell_type": "code",
   "execution_count": 116,
   "metadata": {},
   "outputs": [
    {
     "name": "stdout",
     "output_type": "stream",
     "text": [
      "Sum time Compilation targets (5817): 28060.282800 (66.129070%)\n"
     ]
    }
   ],
   "source": [
    "TargetTime('Compilation', re.compile('.*/usr/bin/c.*'))"
   ]
  },
  {
   "cell_type": "code",
   "execution_count": 118,
   "metadata": {},
   "outputs": [
    {
     "name": "stdout",
     "output_type": "stream",
     "text": [
      "Sum time Compilation C targets (1102): 271.259200 (0.639271%)\n"
     ]
    }
   ],
   "source": [
    "TargetTime('Compilation C', re.compile('.*/usr/bin/cc.*'))"
   ]
  },
  {
   "cell_type": "code",
   "execution_count": 120,
   "metadata": {},
   "outputs": [
    {
     "name": "stdout",
     "output_type": "stream",
     "text": [
      "Sum time Compilation C++ targets (4717): 27796.908900 (65.508383%)\n"
     ]
    }
   ],
   "source": [
    "TargetTime('Compilation C++', re.compile('.*/usr/bin/c\\+\\+.*'))"
   ]
  },
  {
   "cell_type": "code",
   "execution_count": 117,
   "metadata": {},
   "outputs": [
    {
     "name": "stdout",
     "output_type": "stream",
     "text": [
      "Sum time CMake targets (1214): 41.593200 (0.098022%)\n"
     ]
    }
   ],
   "source": [
    "TargetTime('CMake', re.compile('.*/usr/local/bin/cmake.*'))"
   ]
  },
  {
   "cell_type": "code",
   "execution_count": 121,
   "metadata": {},
   "outputs": [
    {
     "name": "stdout",
     "output_type": "stream",
     "text": [
      "Sum time Ranlib targets (97): 0.318300 (0.000750%)\n"
     ]
    }
   ],
   "source": [
    "TargetTime('Ranlib', re.compile('.*/usr/bin/ranlib.*'))"
   ]
  },
  {
   "cell_type": "code",
   "execution_count": 129,
   "metadata": {},
   "outputs": [
    {
     "name": "stdout",
     "output_type": "stream",
     "text": [
      "All commands: set(['\"../../Generators/CastXML/castxml/bin/castxml', '\"make', '\"/usr/bin/c++', '\"/home/francois.budin/devel/itk/ITK/build/Wrapping/Generators/SwigInterface/swig/bin/swig', '\"/usr/local/bin/cmake', '\"env', '\"/usr/bin/cc', '\"/home/francois.budin/devel/itk/ITK/build/bin/H5make_libsettings\"', '\"/home/francois.budin/.virtualenvs/itk_dev/bin/python', '\"/usr/bin/ranlib', '\"make\"', '\"/usr/bin/ar', '\"../../CastXML/castxml/bin/castxml', '\"/home/francois.budin/devel/itk/ITK/build/bin/H5detect\"', '\"./itkmkg3states'])\n"
     ]
    }
   ],
   "source": [
    "# Find list commands used:\n",
    "set_commands = set()\n",
    "for cmd, time in all_targets[:-2]:\n",
    "    cmd_split = cmd.split(\" \")\n",
    "    set_commands.add(cmd_split[0])\n",
    "print(\"All commands: %s\" % str(set_commands))"
   ]
  },
  {
   "cell_type": "code",
   "execution_count": 127,
   "metadata": {},
   "outputs": [
    {
     "name": "stdout",
     "output_type": "stream",
     "text": [
      "Sum time castxml targets (818): 2962.069000 (6.980645%)\n"
     ]
    }
   ],
   "source": [
    "TargetTime('castxml', re.compile('.*castxml/bin/castxml.*'))"
   ]
  },
  {
   "cell_type": "code",
   "execution_count": 130,
   "metadata": {},
   "outputs": [
    {
     "name": "stdout",
     "output_type": "stream",
     "text": [
      "Sum time make targets (1222): 176.844900 (0.416767%)\n"
     ]
    }
   ],
   "source": [
    "TargetTime('make', re.compile('.*make.*'))"
   ]
  },
  {
   "cell_type": "code",
   "execution_count": 131,
   "metadata": {},
   "outputs": [
    {
     "name": "stdout",
     "output_type": "stream",
     "text": [
      "Sum time env targets (225): 767.853000 (1.809583%)\n"
     ]
    }
   ],
   "source": [
    "TargetTime('env', re.compile('.*env.*'))"
   ]
  },
  {
   "cell_type": "code",
   "execution_count": 132,
   "metadata": {},
   "outputs": [
    {
     "name": "stdout",
     "output_type": "stream",
     "text": [
      "Sum time H5make_libsettings targets (3): 0.147700 (0.000348%)\n"
     ]
    }
   ],
   "source": [
    "TargetTime('H5make_libsettings', re.compile('.*H5make_libsettings.*'))"
   ]
  },
  {
   "cell_type": "code",
   "execution_count": 133,
   "metadata": {},
   "outputs": [
    {
     "name": "stdout",
     "output_type": "stream",
     "text": [
      "Sum time [python] targets (222): 762.090000 (1.796001%)\n"
     ]
    }
   ],
   "source": [
    "TargetTime('python', re.compile('.*bin/python.*'))"
   ]
  },
  {
   "cell_type": "code",
   "execution_count": 134,
   "metadata": {},
   "outputs": [
    {
     "name": "stdout",
     "output_type": "stream",
     "text": [
      "Sum time H5detect targets (3): 1.512500 (0.003564%)\n"
     ]
    }
   ],
   "source": [
    "TargetTime('H5detect', re.compile('.*H5detect.*'))"
   ]
  },
  {
   "cell_type": "code",
   "execution_count": 135,
   "metadata": {},
   "outputs": [
    {
     "name": "stdout",
     "output_type": "stream",
     "text": [
      "Sum time itkmkg3states targets (3): 0.132000 (0.000311%)\n"
     ]
    }
   ],
   "source": [
    "TargetTime('itkmkg3states', re.compile('.*itkmkg3states.*'))"
   ]
  },
  {
   "cell_type": "code",
   "execution_count": 136,
   "metadata": {},
   "outputs": [
    {
     "name": "stdout",
     "output_type": "stream",
     "text": [
      "Sum time Wrapping targets (2526): 26993.323300 (63.614590%)\n"
     ]
    }
   ],
   "source": [
    "TargetTime('Wrapping', re.compile('.*Wrapping.*'))"
   ]
  },
  {
   "cell_type": "code",
   "execution_count": 137,
   "metadata": {},
   "outputs": [
    {
     "name": "stdout",
     "output_type": "stream",
     "text": [
      "Sum time HeaderTest targets (390): 201.099300 (0.473926%)\n"
     ]
    }
   ],
   "source": [
    "TargetTime('HeaderTest', re.compile('.*HeaderTest.*'))"
   ]
  },
  {
   "cell_type": "code",
   "execution_count": null,
   "metadata": {},
   "outputs": [],
   "source": []
  }
 ],
 "metadata": {
  "kernelspec": {
   "display_name": "Python 2",
   "language": "python",
   "name": "python2"
  },
  "language_info": {
   "codemirror_mode": {
    "name": "ipython",
    "version": 2
   },
   "file_extension": ".py",
   "mimetype": "text/x-python",
   "name": "python",
   "nbconvert_exporter": "python",
   "pygments_lexer": "ipython2",
   "version": "2.7.15rc1"
  }
 },
 "nbformat": 4,
 "nbformat_minor": 2
}
